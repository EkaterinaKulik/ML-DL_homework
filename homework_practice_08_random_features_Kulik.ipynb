{
  "cells": [
    {
      "cell_type": "markdown",
      "metadata": {
        "id": "RYp0bXOFK-hP"
      },
      "source": [
        "# Машинное обучение, ФКН ВШЭ\n",
        "\n",
        "## Практическое задание 8. Метод опорных векторов и аппроксимация ядер\n",
        "\n",
        "### Общая информация\n",
        "\n",
        "Дата выдачи: 30.01.2025\n",
        "\n",
        "Мягкий дедлайн: 23:59MSK 16.02.2025\n",
        "\n",
        "Жесткий дедлайн: 23:59MSK 23.02.2025\n",
        "\n",
        "### Оценивание и штрафы\n",
        "Каждая из задач имеет определенную «стоимость» (указана в скобках около задачи). Максимальная оценка за работу (без учёта бонусов) — 10 баллов.\n",
        "\n",
        "Сдавать задание после указанного жёсткого срока сдачи нельзя. При выставлении неполного балла за задание в связи с наличием ошибок на усмотрение проверяющего предусмотрена возможность исправить работу на указанных в ответном письме условиях.\n",
        "\n",
        "Задание выполняется самостоятельно. «Похожие» решения считаются плагиатом и все задействованные студенты (в том числе те, у кого списали) не могут получить за него больше 0 баллов (подробнее о плагиате см. на странице курса). Если вы нашли решение какого-то из заданий (или его часть) в открытом источнике, необходимо указать ссылку на этот источник в отдельном блоке в конце вашей работы (скорее всего вы будете не единственным, кто это нашел, поэтому чтобы исключить подозрение в плагиате, необходима ссылка на источник).\n",
        "\n",
        "Использование генеративных языковых моделей разрешено только в случае явного указания на это. Необходимо прописать (в соответствующих пунктах, где использовались, либо в начале/конце работы):\n",
        "- какая языковая модель использовалась\n",
        "- какие использовались промпты и в каких частях работы\n",
        "- с какими сложностями вы столкнулись при использовании генеративных моделей, с чем они помогли больше всего\n",
        "\n",
        "Неэффективная реализация кода может негативно отразиться на оценке.\n",
        "\n",
        "### Формат сдачи\n",
        "Задания сдаются через систему anytask. Посылка должна содержать:\n",
        "* Ноутбук homework-practice-08-random-features-Username.ipynb\n",
        "\n",
        "Username — ваша фамилия и имя на латинице именно в таком порядке"
      ]
    },
    {
      "cell_type": "markdown",
      "metadata": {
        "id": "vY8vT0W_K-hR"
      },
      "source": [
        "### О задании\n",
        "\n",
        "На занятиях мы подробно обсуждали метод опорных векторов (SVM). В базовой версии в нём нет чего-то особенного — мы всего лишь используем специальную функцию потерь, которая не требует устремлять отступы к бесконечности; ей достаточно, чтобы отступы были не меньше +1. Затем мы узнали, что SVM можно переписать в двойственном виде, который, позволяет заменить скалярные произведения объектов на ядра. Это будет соответствовать построению модели в новом пространстве более высокой размерности, координаты которого представляют собой нелинейные модификации исходных признаков.\n",
        "\n",
        "Ядровой SVM, к сожалению, довольно затратен по памяти (нужно хранить матрицу Грама размера $d \\times d$) и по времени (нужно решать задачу условной оптимизации с квадратичной функцией, а это не очень быстро). Мы обсуждали, что есть способы посчитать новые признаки $\\tilde \\varphi(x)$ на основе исходных так, что скалярные произведения этих новых $\\langle \\tilde \\varphi(x), \\tilde \\varphi(z) \\rangle$ приближают ядро $K(x, z)$.\n",
        "\n",
        "Мы будем исследовать аппроксимации методом Random Fourier Features (RFF, также в литературе встречается название Random Kitchen Sinks) для гауссовых ядер. Будем использовать формулы, которые немного отличаются от того, что было на лекциях (мы добавим сдвиги внутрь тригонометрических функций и будем использовать только косинусы, потому что с нужным сдвигом косинус превратится в синус):\n",
        "$$\\tilde \\varphi(x) = (\n",
        "\\cos (w_1^T x + b_1),\n",
        "\\dots,\n",
        "\\cos (w_n^T x + b_n)\n",
        "),$$\n",
        "где $w_j \\sim \\mathcal{N}(0, 1/\\sigma^2)$, $b_j \\sim U[-\\pi, \\pi]$.\n",
        "\n",
        "На новых признаках $\\tilde \\varphi(x)$ мы будем строить любую линейную модель.\n",
        "\n",
        "Можно считать, что это некоторая новая парадигма построения сложных моделей. Можно направленно искать сложные нелинейные закономерности в данных с помощью градиентного бустинга или нейронных сетей, а можно просто нагенерировать большое количество случайных нелинейных признаков и надеяться, что быстрая и простая модель (то есть линейная) сможет показать на них хорошее качество. В этом задании мы изучим, насколько работоспособна такая идея.\n",
        "\n",
        "### Алгоритм\n",
        "\n",
        "Вам потребуется реализовать следующий алгоритм:\n",
        "1. Понизить размерность выборки до new_dim с помощью метода главных компонент.\n",
        "2. Для полученной выборки оценить гиперпараметр $\\sigma^2$ с помощью эвристики (рекомендуем считать медиану не по всем парам объектов, а по случайному подмножеству из где-то миллиона пар объектов): $$\\sigma^2 = \\text{median}_{i, j = 1, \\dots, \\ell, i \\neq j} \\left\\{\\sum_{k = 1}^{d} (x_{ik} - x_{jk})^2 \\right\\}$$\n",
        "3. Сгенерировать n_features наборов весов $w_j$ и сдвигов $b_j$.\n",
        "4. Сформировать n_features новых признаков по формулам, приведённым выше.\n",
        "5. Обучить линейную модель (логистическую регрессию или SVM) на новых признаках.\n",
        "6. Повторить преобразования (PCA, формирование новых признаков) к тестовой выборке и применить модель."
      ]
    },
    {
      "cell_type": "code",
      "execution_count": 1,
      "metadata": {
        "id": "4aqFB03OxGpX"
      },
      "outputs": [],
      "source": [
        "%load_ext autoreload\n",
        "%autoreload 2"
      ]
    },
    {
      "cell_type": "markdown",
      "metadata": {
        "id": "N_sGunb7K-hS"
      },
      "source": [
        "Тестировать алгоритм мы будем на данных Fashion MNIST. Ниже код для их загрузки и подготовки."
      ]
    },
    {
      "cell_type": "code",
      "execution_count": 2,
      "metadata": {
        "id": "YyG6dBfjK-hS",
        "colab": {
          "base_uri": "https://localhost:8080/"
        },
        "outputId": "fcf834cc-4783-41b9-a29c-b87aee9ad604"
      },
      "outputs": [
        {
          "output_type": "stream",
          "name": "stdout",
          "text": [
            "Downloading data from https://storage.googleapis.com/tensorflow/tf-keras-datasets/train-labels-idx1-ubyte.gz\n",
            "\u001b[1m29515/29515\u001b[0m \u001b[32m━━━━━━━━━━━━━━━━━━━━\u001b[0m\u001b[37m\u001b[0m \u001b[1m0s\u001b[0m 0us/step\n",
            "Downloading data from https://storage.googleapis.com/tensorflow/tf-keras-datasets/train-images-idx3-ubyte.gz\n",
            "\u001b[1m26421880/26421880\u001b[0m \u001b[32m━━━━━━━━━━━━━━━━━━━━\u001b[0m\u001b[37m\u001b[0m \u001b[1m1s\u001b[0m 0us/step\n",
            "Downloading data from https://storage.googleapis.com/tensorflow/tf-keras-datasets/t10k-labels-idx1-ubyte.gz\n",
            "\u001b[1m5148/5148\u001b[0m \u001b[32m━━━━━━━━━━━━━━━━━━━━\u001b[0m\u001b[37m\u001b[0m \u001b[1m0s\u001b[0m 0us/step\n",
            "Downloading data from https://storage.googleapis.com/tensorflow/tf-keras-datasets/t10k-images-idx3-ubyte.gz\n",
            "\u001b[1m4422102/4422102\u001b[0m \u001b[32m━━━━━━━━━━━━━━━━━━━━\u001b[0m\u001b[37m\u001b[0m \u001b[1m0s\u001b[0m 0us/step\n"
          ]
        }
      ],
      "source": [
        "import keras\n",
        "from keras.datasets import fashion_mnist\n",
        "(x_train_pics, y_train), (x_test_pics, y_test) = fashion_mnist.load_data()\n",
        "x_train = x_train_pics.reshape(y_train.shape[0], -1)\n",
        "x_test = x_test_pics.reshape(y_test.shape[0], -1)"
      ]
    },
    {
      "cell_type": "markdown",
      "metadata": {
        "id": "TMwLVadbxGpc"
      },
      "source": [
        "__Задание 0. (0.25 баллов)__\n",
        "\n",
        "**Вопрос:** зачем в алгоритме нужен метод главных компонент?\n",
        "\n",
        "**Ответ:** PCA используется в алгоритме для снижения размерности исходных данных. Это позволяет уменьшить вычислительные затраты на последующие этапы, такие как оценка гиперпараметра $\\sigma^2$, генерация новых признаков с помощью Random Fourier Features и обучение модели. PCA сохраняет основную информацию о данных, устраняя избыточные и коррелированные признаки, что может также способствовать улучшению обобщающей способности модели и снижению переобучения модели."
      ]
    },
    {
      "cell_type": "markdown",
      "metadata": {
        "id": "rJNN55F7K-hT"
      },
      "source": [
        "__Задание 1. (3 балла)__\n",
        "\n",
        "Реализуйте алгоритм, описанный выше. Можете воспользоваться шаблоном класса в `homework_practice_08_rff.py` (допишите его и исправьте несостыковки в классе пайплайна) или написать свой интерфейс.\n",
        "\n",
        "Ваша реализация должна поддерживать следующие опции:\n",
        "1. Возможность задавать значения гиперпараметров new_dim (по умолчанию 50) и n_features (по умолчанию 1000).\n",
        "2. Возможность включать или выключать предварительное понижение размерности с помощью метода главных компонент.\n",
        "3. Возможность выбирать тип линейной модели (логистическая регрессия или SVM с линейным ядром).\n",
        "\n",
        "Протестируйте на данных Fashion MNIST, сформированных кодом выше. Если на тесте у вас получилась доля верных ответов не ниже 0.84 с гиперпараметрами по умолчанию, то вы всё сделали правильно."
      ]
    },
    {
      "cell_type": "code",
      "source": [
        "import warnings\n",
        "\n",
        "warnings.filterwarnings(\"ignore\")"
      ],
      "metadata": {
        "id": "WFN9tcuWmoRf"
      },
      "execution_count": 3,
      "outputs": []
    },
    {
      "cell_type": "code",
      "source": [
        "from homework_practice_08_rff import RFFPipeline, RandomFeatureCreator\n",
        "\n",
        "pipeline = RFFPipeline(n_features=1000, new_dim=50, feature_creator_class=RandomFeatureCreator)"
      ],
      "metadata": {
        "id": "1Jj8dQTnCt5Q"
      },
      "execution_count": 9,
      "outputs": []
    },
    {
      "cell_type": "code",
      "source": [
        "import time"
      ],
      "metadata": {
        "id": "MLJmP31D50fM"
      },
      "execution_count": 12,
      "outputs": []
    },
    {
      "cell_type": "code",
      "source": [
        "from sklearn.metrics import accuracy_score\n",
        "\n",
        "start_time_train = time.time()\n",
        "pipeline.fit(x_train, y_train)\n",
        "train_time = time.time() - start_time_train\n",
        "y_pred = pipeline.predict(x_test)\n",
        "\n",
        "accuracy = accuracy_score(y_test, y_pred)\n",
        "print(f\"Accuracy: {accuracy:.4f}\")\n",
        "print(f\"Time for Random Fourier Features : {train_time:.6f}\")"
      ],
      "metadata": {
        "colab": {
          "base_uri": "https://localhost:8080/"
        },
        "id": "8s2yTFFN_-Lc",
        "outputId": "d9613954-230d-426c-baab-cebac059e9c5"
      },
      "execution_count": 17,
      "outputs": [
        {
          "output_type": "stream",
          "name": "stdout",
          "text": [
            "Accuracy: 0.8574\n",
            "Time for Random Fourier Features : 63.398667\n"
          ]
        }
      ]
    },
    {
      "cell_type": "markdown",
      "metadata": {
        "id": "HYqQUEi-K-hU"
      },
      "source": [
        "__Задание 2. (2.5 балла)__\n",
        "\n",
        "Сравните подход со случайными признаками с обучением SVM на исходных признаках. Попробуйте вариант с обычным (линейным) SVM и с ядровым SVM. Ядровой SVM может очень долго обучаться, поэтому можно делать любые разумные вещи для ускорения: брать подмножество объектов из обучающей выборки, например.\n",
        "\n",
        "Сравните подход со случайными признаками с вариантом, в котором вы понижаете размерность с помощью PCA и обучите градиентный бустинг. Используйте одну из реализаций CatBoost/LightGBM/XGBoost.\n",
        "\n",
        "Сделайте выводы — насколько идея со случайными признаками работает? Сравните как с точки зрения качества, так и с точки зрения скорости обучения и применения."
      ]
    },
    {
      "cell_type": "code",
      "execution_count": 18,
      "metadata": {
        "id": "qN8LUlJgK-hV",
        "colab": {
          "base_uri": "https://localhost:8080/"
        },
        "outputId": "39d74818-c0fc-4888-c203-55cb949434e4"
      },
      "outputs": [
        {
          "output_type": "stream",
          "name": "stdout",
          "text": [
            "Accuracy for Linear SVM: 0.7606\n",
            "Time for Linear SVM Random Fourier Features: 0.521150\n"
          ]
        }
      ],
      "source": [
        "from sklearn.svm import LinearSVC\n",
        "import numpy as np\n",
        "subset_size = 1000\n",
        "subset_idx = np.random.choice(x_train.shape[0], subset_size, replace=False)\n",
        "x_train_subset, y_train_subset = x_train[subset_idx], y_train[subset_idx]\n",
        "\n",
        "linear_svm = LinearSVC()\n",
        "start_time_train_linear_svm = time.time()\n",
        "linear_svm.fit(x_train_subset, y_train_subset)\n",
        "train_time_linear_svm = time.time() - start_time_train_linear_svm\n",
        "y_pred_linear_svm = linear_svm.predict(x_test)\n",
        "\n",
        "accuracy_liniar_svm = accuracy_score(y_test, y_pred_linear_svm)\n",
        "print(f\"Accuracy for Linear SVM: {accuracy_liniar_svm:.4f}\")\n",
        "print(f\"Time for Linear SVM Random Fourier Features: {train_time_linear_svm:.6f}\")"
      ]
    },
    {
      "cell_type": "code",
      "source": [
        "from sklearn.svm import SVC\n",
        "\n",
        "kernel_svm = SVC(kernel='rbf')\n",
        "start_time_train_kernel_svm = time.time()\n",
        "kernel_svm.fit(x_train_subset, y_train_subset)\n",
        "train_time_kernel_svm = time.time() - start_time_train_kernel_svm\n",
        "y_pred_kernel_svm = kernel_svm.predict(x_test)\n",
        "\n",
        "accuracy_kernel_svm = accuracy_score(y_test, y_pred_kernel_svm)\n",
        "print(f\"Accuracy for Kernel SVM: {accuracy_kernel_svm:.4f}\")\n",
        "print(f\"Time for Kernel SVM Random Fourier Features: {train_time_kernel_svm:.6f}\")"
      ],
      "metadata": {
        "colab": {
          "base_uri": "https://localhost:8080/"
        },
        "id": "-hU9qMnlfA0k",
        "outputId": "8e82dff9-4f2f-479a-80ef-cf251be5f4d2"
      },
      "execution_count": 19,
      "outputs": [
        {
          "output_type": "stream",
          "name": "stdout",
          "text": [
            "Accuracy for Kernel SVM: 0.7915\n",
            "Time for Kernel SVM Random Fourier Features: 0.753179\n"
          ]
        }
      ]
    },
    {
      "cell_type": "code",
      "source": [
        "from sklearn.decomposition import PCA\n",
        "from sklearn.preprocessing import StandardScaler\n",
        "from lightgbm import LGBMClassifier\n",
        "\n",
        "scaler = StandardScaler()\n",
        "x_train_scaled = scaler.fit_transform(x_train)\n",
        "x_test_scaled = scaler.transform(x_test)\n",
        "\n",
        "pca = PCA(n_components=50)\n",
        "x_train_pca = pca.fit_transform(x_train_scaled)\n",
        "x_test_pca = pca.transform(x_test_scaled)\n",
        "\n",
        "lgbm = LGBMClassifier(n_estimators=200, learning_rate=0.1, random_state=42)\n",
        "start_time_train_lgbm = time.time()\n",
        "lgbm.fit(x_train_pca, y_train)\n",
        "train_time_lgbm = time.time() - start_time_train_lgbm\n",
        "y_pred_pca_lgbm = lgbm.predict(x_test_pca)\n",
        "\n",
        "accuracy_pca_lgbm = accuracy_score(y_test, y_pred_pca_lgbm)\n",
        "print(f\"PCA + LightGBM Accuracy: {accuracy_pca_lgbm:.4f}\")\n",
        "print(f\"Time for LightGBM : {train_time_lgbm:.6f} seconds\")"
      ],
      "metadata": {
        "colab": {
          "base_uri": "https://localhost:8080/"
        },
        "id": "P2Hv8Ja5kY6y",
        "outputId": "9014ca34-a0ac-4d29-bf6d-0626b558873c"
      },
      "execution_count": 21,
      "outputs": [
        {
          "output_type": "stream",
          "name": "stdout",
          "text": [
            "[LightGBM] [Info] Auto-choosing col-wise multi-threading, the overhead of testing was 0.034575 seconds.\n",
            "You can set `force_col_wise=true` to remove the overhead.\n",
            "[LightGBM] [Info] Total Bins 12750\n",
            "[LightGBM] [Info] Number of data points in the train set: 60000, number of used features: 50\n",
            "[LightGBM] [Info] Start training from score -2.302585\n",
            "[LightGBM] [Info] Start training from score -2.302585\n",
            "[LightGBM] [Info] Start training from score -2.302585\n",
            "[LightGBM] [Info] Start training from score -2.302585\n",
            "[LightGBM] [Info] Start training from score -2.302585\n",
            "[LightGBM] [Info] Start training from score -2.302585\n",
            "[LightGBM] [Info] Start training from score -2.302585\n",
            "[LightGBM] [Info] Start training from score -2.302585\n",
            "[LightGBM] [Info] Start training from score -2.302585\n",
            "[LightGBM] [Info] Start training from score -2.302585\n",
            "PCA + LightGBM Accuracy: 0.8661\n",
            "Time for LightGBM : 51.361381 seconds\n"
          ]
        }
      ]
    },
    {
      "cell_type": "markdown",
      "source": [
        "Мы сравнили между собой четыре метода: Linear SVM, Kernel SVM, Random Fourier Features и подход с понижением размерности с помощью PCA, за которым следует обучение градиентного бустинга.\n",
        "\n",
        "Если говорить об обычном SVM, то ядровой SVM показал более высокое качество по сравнению с линейным. Это ожидаемо, так как ядровой метод лучше отражает сложные нелинейные зависимости в данных. Однако стоит отметить, что обучение ядрового SVM заняло значительно больше времени, чем линейного (хотя длительное время обучения — это характерная особенность всего семейства SVM, особенно при использовании ядровых методов).\n",
        "\n",
        "Метод Random Fourier Features продемонстрировал качество лучше, чем линейный и даже ядровой SVM, что показывает его потенциал для аппроксимации нелинейных зависимостей с меньшими затратами. Однако время обучения RFF оказалось выше, чем у линейного SVM, и даже ядрового.\n",
        "\n",
        "Затем мы сравнили SVM и подход с понижением размерности с помощью PCA, за которым следовало обучение градиентного бустинга. Градиентный бустинг продемонстрировал значительно более высокое качество, чем SVM, что объясняется его способностью эффективно выявлять сложные зависимости в данных. Однако это потребовало большего времени на обучение по сравнению как с линейным, так и с ядровым SVM.\n",
        "\n",
        "Если говорить о сравнении градиентного бустинга и Random Fourier Features, то градиентный бустинг показал качество на одну десятую выше, чем RFF. Тем не менее, время обучения градиентного бустинга оказалось чуть большим, чем у RFF.\n",
        "\n"
      ],
      "metadata": {
        "id": "FvFdHvbUZDU0"
      }
    },
    {
      "cell_type": "markdown",
      "metadata": {
        "id": "e6umjhWuK-hV"
      },
      "source": [
        "__Задание 3. (2 балла)__\n",
        "\n",
        "Проведите эксперименты:\n",
        "1. Помогает ли предварительное понижение размерности с помощью PCA?\n",
        "2. Как зависит итоговое качество от n_features? Выходит ли оно на плато при росте n_features?\n",
        "3. Важно ли, какую модель обучать — логистическую регрессию или SVM?"
      ]
    },
    {
      "cell_type": "code",
      "execution_count": 9,
      "metadata": {
        "id": "c2QIHIMbK-hW",
        "colab": {
          "base_uri": "https://localhost:8080/"
        },
        "outputId": "a07b0f37-110b-4205-ce83-5c87ccfea2d3"
      },
      "outputs": [
        {
          "output_type": "stream",
          "name": "stdout",
          "text": [
            "Accuracy without PCA: 0.1104\n",
            "Accuracy with PCA: 0.8590\n"
          ]
        }
      ],
      "source": [
        "pipeline_no_pca = RFFPipeline(n_features=1000, new_dim=50, feature_creator_class=RandomFeatureCreator, use_PCA=False)\n",
        "pipeline_no_pca.fit(x_train, y_train)\n",
        "y_pred_no_pca = pipeline_no_pca.predict(x_test)\n",
        "accracy_no_pca = accuracy_score(y_test, y_pred_no_pca)\n",
        "\n",
        "\n",
        "print(f\"Accuracy without PCA: {accracy_no_pca :.4f}\")\n",
        "print(f\"Accuracy with PCA: {accuracy:.4f}\")"
      ]
    },
    {
      "cell_type": "markdown",
      "source": [
        "1. Предварительное понижение размерности кардинально повысило качество модели (в 8 раз). Это происходит потому, что PCA удаляет шум в данных и устраняет мультиколлинеарность между признаками. Шумовые признаки часто не содержат полезной информации, но могут сбивать модель, особенно если их много. Устраняя их, PCA позволяет сосредоточиться на наиболее значимых признаках. Кроме того, уменьшение размерности помогает модели лучше обобщать данные и снижает риск переобучения, так как модель меньше подстраивается под избыточные или неинформативные признаки."
      ],
      "metadata": {
        "id": "Yqy4rcZWtPzH"
      }
    },
    {
      "cell_type": "code",
      "source": [
        "import matplotlib.pyplot as plt\n",
        "\n",
        "n_features_list = [100, 500, 1000, 2000, 5000]\n",
        "accuracies = []\n",
        "\n",
        "for n in n_features_list:\n",
        "    pipeline = RFFPipeline(n_features=n, new_dim=50, feature_creator_class=RandomFeatureCreator)\n",
        "    pipeline.fit(x_train, y_train)\n",
        "    y_pred = pipeline.predict(x_test)\n",
        "    acc = accuracy_score(y_test, y_pred)\n",
        "    accuracies.append(acc)\n",
        "\n",
        "plt.plot(n_features_list, accuracies, marker='o')\n",
        "plt.xlabel(\"Number of Features\")\n",
        "plt.ylabel(\"Accuracy\")\n",
        "plt.title(\"Accuracy depending on number of features\")\n",
        "plt.show()"
      ],
      "metadata": {
        "colab": {
          "base_uri": "https://localhost:8080/",
          "height": 472
        },
        "id": "3jCaf78kmSNy",
        "outputId": "295d5f5c-071b-4f80-e52a-52c62255f067"
      },
      "execution_count": 10,
      "outputs": [
        {
          "output_type": "display_data",
          "data": {
            "text/plain": [
              "<Figure size 640x480 with 1 Axes>"
            ],
            "image/png": "[encoded data removed]"
          },
          "metadata": {}
        }
      ]
    },
    {
      "cell_type": "markdown",
      "source": [
        "2. Чем больше случайных признаков (RFF), тем выше качество модели. Однако после достижения порога в 2000 признаков наблюдается плато, и дальнейшее увеличение количества признаков практически не улучшает качество. Это связано с тем, что при достаточном числе признаков ядро становится достаточно хорошо аппроксимированным, и дальнейшее увеличение числа признаков только добавляет вычислительные затраты без значительного прироста точности."
      ],
      "metadata": {
        "id": "Pibu7iAxxMdZ"
      }
    },
    {
      "cell_type": "code",
      "source": [
        "import numpy as np\n",
        "subset_size = 1000\n",
        "subset_idx = np.random.choice(x_train.shape[0], subset_size, replace=False)\n",
        "x_train_subset, y_train_subset = x_train[subset_idx], y_train[subset_idx]"
      ],
      "metadata": {
        "id": "ehqY2ry21KWB"
      },
      "execution_count": 5,
      "outputs": []
    },
    {
      "cell_type": "code",
      "source": [
        "pipeline_svm = RFFPipeline(n_features=1000, use_PCA=True, classifier_class=SVC, classifier_params={\"kernel\": \"linear\"})\n",
        "pipeline_svm.fit(x_train_subset, y_train_subset)\n",
        "y_pred_svm = pipeline_svm.predict(x_test)\n",
        "accuracy_svm = accuracy_score(y_test, y_pred_svm)\n",
        "print(f\"Accuracy with SVM: {accuracy_svm:.4f}\")"
      ],
      "metadata": {
        "colab": {
          "base_uri": "https://localhost:8080/"
        },
        "id": "yFDM1sFFZSRV",
        "outputId": "7eac5f80-3bb9-4b3d-97a3-682fe75df552"
      },
      "execution_count": 10,
      "outputs": [
        {
          "output_type": "stream",
          "name": "stdout",
          "text": [
            "Accuracy with SVM: 0.7560\n"
          ]
        }
      ]
    },
    {
      "cell_type": "markdown",
      "source": [
        "3. В данном эксперименте логистическая регрессия показала лучшее качество, чем линейный SVM, с разницей примерно в одну десятую долю. Более того, логистическая регрессия обучалась значительно быстрее, чем SVM, что делает ее предпочтительным выбором для данной задачи."
      ],
      "metadata": {
        "id": "Wl7BkfFAxjsj"
      }
    },
    {
      "cell_type": "markdown",
      "metadata": {
        "id": "QVDWHCdrK-hX"
      },
      "source": [
        "__Задание 4. (Максимум 1.5 балла)__\n",
        "\n",
        "Как вы, должно быть, помните с курса МО-1, многие алгоритмы машинного обучения работают лучше, если признаки данных некоррелированы. Оказывается, что для RFF существует модификация, позволяющая получать ортогональные случайные признаки (Orthogonal Random Features, ORF). Об этом методе можно прочитать в [статье](https://proceedings.neurips.cc/paper/2016/file/53adaf494dc89ef7196d73636eb2451b-Paper.pdf). Реализуйте класс для вычисления ORF по аналогии с основным заданием. Обратите внимание, что ваш класс должен уметь работать со случаем n_features > new_dim (в статье есть замечание на этот счет), n_features=new_dim и n_features < new_dim также должны работать, убедитесь в этом. Проведите эксперименты, сравнивающие RFF и ORF, сделайте выводы.\n"
      ]
    },
    {
      "cell_type": "code",
      "execution_count": 32,
      "metadata": {
        "id": "HSxvGI9iK-hX"
      },
      "outputs": [],
      "source": [
        "from homework_practice_08_rff import OrthogonalRandomFeatureCreator\n",
        "\n",
        "pipeline_orth = RFFPipeline(n_features=1000, new_dim=50, feature_creator_class=OrthogonalRandomFeatureCreator)"
      ]
    },
    {
      "cell_type": "code",
      "source": [
        "start_time_train_orth = time.time()\n",
        "pipeline_orth.fit(x_train, y_train)\n",
        "train_time_orth = time.time() - start_time_train_orth\n",
        "y_pred_orth = pipeline_orth.predict(x_test)\n",
        "\n",
        "accuracy_orth = accuracy_score(y_test, y_pred_orth)\n",
        "print(f\"Accuracy for Orthogonal Random Features: {accuracy_orth:.4f}\")\n",
        "print(f\"Time for Orthogonal Random Features: {train_time_orth:.6f}\")"
      ],
      "metadata": {
        "colab": {
          "base_uri": "https://localhost:8080/"
        },
        "id": "crBR-L7X28jZ",
        "outputId": "a3386b32-c3f1-4c07-949b-050747681c7d"
      },
      "execution_count": 14,
      "outputs": [
        {
          "output_type": "stream",
          "name": "stdout",
          "text": [
            "Accuracy for Orthogonal Random Features: 0.8611\n",
            "Time for Orthogonal Random Features: 63.717056\n"
          ]
        }
      ]
    },
    {
      "cell_type": "markdown",
      "source": [
        "Мы провели сравнение Random Fourier Features и Orthogonal Random Features с точки зрения качества модели и скорости обучения. В ходе экспериментов было выявлено, что ORF демонстрируют более высокое качество, чем RFF. Это объясняется тем, что признаки, сгенерированные с помощью ORF, ортогональны, что снижает избыточность и корреляцию между ними. Меньшая корреляция позволяет модели эффективнее использовать признаки и лучше улавливать зависимости в данных.\n",
        "\n",
        "Кроме того, обучение моделей на ORF оказалось быстрее, чем на RFF. Ортогонализация признаков снижает сложность численных вычислений и улучшает стабильность оптимизации, что приводит к более быстрой сходимости модели. Это преимущество особенно заметно при использовании линейных методов, которые чувствительны к взаимной зависимости признаков."
      ],
      "metadata": {
        "id": "dK_yqW5F3NPk"
      }
    },
    {
      "cell_type": "markdown",
      "metadata": {
        "id": "4pc7-1jmK-hY"
      },
      "source": [
        "__Задание 5. (Максимум 1 балл)__\n",
        "\n",
        "Существует большое количество работ, где идея RFF развивается, предлагаются её обобщения (которые, по сути, выливаются в другие преобразования признаков, не обязательно уже тригонометрические). Возьмите любую из таких работ, кратко опишите идею, имплементируйте её и сравните качество с ORF и RFF, которые вы запрограммировали выше.\n",
        "\n",
        "Ссылки на статьи, где обсуждаются вариации RFF для разных ядер, можно найти в окрестности таблицы 1 в работе https://arxiv.org/pdf/1407.5599  \n",
        "\n",
        "___ссылка на работу___: https://vikas.sindhwani.org/RandomLaplace.pdf\n",
        "\n",
        "\n",
        "___описание идеи:___ авторы предлагают метод Random Laplace Features для аппроксимации семигрупповых ядер (semigroup kernel), применимых к гистограммам и другим неотрицательным данным. В отличие от Random Fourier Features, которые используют преобразование Фурье для создания сдвиг-инвариантных признаков, данный метод основывается на преобразовании Лапласа. Это позволяет эффективно аппроксимировать ядра, учитывающие аддитивную структуру неотрицательных данных, что особенно полезно в задачах компьютерного зрения и анализа гистограмм."
      ]
    },
    {
      "cell_type": "code",
      "execution_count": 33,
      "metadata": {
        "id": "dWj-O2vjK-hY"
      },
      "outputs": [],
      "source": [
        "from homework_practice_08_rff import RandomLaplaceFeatureCreator\n",
        "\n",
        "pipeline_lap = RFFPipeline(n_features=1000, new_dim=50, use_PCA=False, feature_creator_class=RandomLaplaceFeatureCreator)"
      ]
    },
    {
      "cell_type": "code",
      "source": [
        "start_time_train_lap = time.time()\n",
        "pipeline_lap.fit(x_train, y_train)\n",
        "train_time_lap = time.time() - start_time_train_lap\n",
        "y_pred_lap = pipeline_lap.predict(x_test)\n",
        "\n",
        "accuracy_lap = accuracy_score(y_test, y_pred_lap)\n",
        "print(f\"Accuracy for Random Laplace Features: {accuracy_lap:.4f}\")\n",
        "print(f\"Time for Random Laplace Features: {train_time_lap:.6f}\")"
      ],
      "metadata": {
        "colab": {
          "base_uri": "https://localhost:8080/"
        },
        "id": "IOJk_bKDFrKh",
        "outputId": "b314ecbb-cb33-43e8-b19b-323b9b89a176"
      },
      "execution_count": 34,
      "outputs": [
        {
          "output_type": "stream",
          "name": "stdout",
          "text": [
            "Accuracy for Random Laplace Features: 0.1000\n",
            "Time for Random Laplace Features: 6.315945\n"
          ]
        }
      ]
    },
    {
      "cell_type": "markdown",
      "source": [
        "Точность метода Random Laplace Features оказалась в 8 раз ниже, чем у Random Fourier Features. RLF используют экспоненциальное распределение случайных весов, в отличие от гауссового в RFF. Это может приводить к менее равномерному покрытию пространства признаков, особенно если данные распределены неэкспоненциально, что ухудшает способность модели приближать сложные зависимости. Я бы также отметила, что ядро Лапласа менее гибкое, чем гауссовое, используемое в RFF. Гауссовые ядра хорошо аппроксимируют широкий спектр зависимостей, тогда как ядро Лапласа более ограничено в своей форме, что может объяснять сильное падение точности.\n",
        "\n",
        "При этом RLF обучается быстрее, поскольку его вычисления требуют меньше ресурсов."
      ],
      "metadata": {
        "id": "v86cWlYzNMxW"
      }
    },
    {
      "cell_type": "markdown",
      "metadata": {
        "id": "BRCxWfhCxGpl"
      },
      "source": [
        "__Задание 6. (Максимум 2.5 балла)__\n",
        "\n",
        "Реализуйте класс ядровой Ridge регрессии (Лекция 13, $\\S 1.2$), для оптимизации используте градиентный спуск **[1 балл максимум]**, также добавьте возможность использовать аналитическую формулу **[1 балл максимум]**. Для градиентного спуска выпишите градиент ниже **[0.5 баллов максимум]**.\n",
        "Подумайте о том, как в формулах правильно учесть свободный коэффициент.\n",
        "\n",
        "Затем адаптируйте вашу реализацию RFF под задачу регрессии. Сравните вашу ядровую регрессию и RFF на синтетических данных."
      ]
    },
    {
      "cell_type": "markdown",
      "metadata": {
        "id": "SaIKHa8nxGpm"
      },
      "source": [
        "Функция потерь:\n",
        "$$\n",
        "Q(w) = \\frac{1}{2} ||\\Phi \\Phi^T w - y||^2 + \\frac{\\lambda}{2} w^T \\Phi \\Phi^T w \\rightarrow \\min_w,\n",
        "$$\n",
        "где $\\Phi \\Phi^T = K$, $K = (k(x_i, x_j))_{i, j = 1}^{\\ell}$.\n",
        "\n",
        "Предсказание:\n",
        "$\n",
        "y(x) = k(x)^T w,\n",
        "$\n",
        "где $k(x)$ — вектор функций ядра от пар объектов $(x, x_i)_{i=1}^{\\ell}$.\n",
        "\n",
        "___Выведите градиент:___\n",
        "$$\n",
        "Q(w) = \\frac{1}{2} ||Kw - y||^2 + \\frac{\\lambda}{2} w^T K w \\rightarrow \\min_w,\n",
        "$$\n",
        "$$\n",
        "\\nabla Q(w) = K(Kw-y) + \\lambda K W\n",
        "$$\n",
        "$$\n",
        "\\nabla Q(w) = K K w - K y + \\lambda K w\n",
        "$$\n",
        "$$\n",
        "\\nabla Q(w) = K(Kw - y - \\lambda w)\n",
        "$$\n",
        "\n",
        "Вы можете изменять представленный шаблон в файле `homework_practice_08_kernel_regression.py` по своему усмотрению."
      ]
    },
    {
      "cell_type": "code",
      "execution_count": 1,
      "metadata": {
        "id": "o0rqqfNQxGpn"
      },
      "outputs": [],
      "source": [
        "from homework_practice_08_kernel_regression import KernelRidgeRegression"
      ]
    },
    {
      "cell_type": "code",
      "source": [
        "from sklearn.model_selection import train_test_split\n",
        "from sklearn.metrics import mean_squared_error"
      ],
      "metadata": {
        "id": "9loJCnRQ-0OJ"
      },
      "execution_count": 5,
      "outputs": []
    },
    {
      "cell_type": "code",
      "source": [
        "X = np.linspace(-2, 2, 1000).reshape(-1, 1)\n",
        "y = np.sin(3 * X).ravel() + 0.1 * np.random.randn(1000)\n",
        "\n",
        "X_train, X_test, y_train, y_test = train_test_split(X, y, test_size=0.2, random_state=42)\n",
        "\n",
        "model_krr = KernelRidgeRegression()\n",
        "\n",
        "start_time = time.time()\n",
        "model_krr.fit_closed_form(X_train, y_train)\n",
        "time_krr = time.time() - start_time\n",
        "\n",
        "y_pred_krr = model_krr.predict(X_test)\n",
        "\n",
        "mse_krr = mean_squared_error(y_test, y_pred_krr)\n",
        "\n",
        "print(f\"MSE for Kernel Ridge Regression: {mse_krr:.4f}\")\n",
        "print(f\"Time for Kernel Ridge Regression: {time_krr:.6f}\")"
      ],
      "metadata": {
        "colab": {
          "base_uri": "https://localhost:8080/"
        },
        "id": "4A-EHtf28jW5",
        "outputId": "902c0c3b-a106-45e2-def2-7722d9b03eb4"
      },
      "execution_count": 7,
      "outputs": [
        {
          "output_type": "stream",
          "name": "stdout",
          "text": [
            "MSE for Kernel Ridge Regression: 0.0319\n",
            "Time for Kernel Ridge Regression: 0.074369\n"
          ]
        }
      ]
    },
    {
      "cell_type": "code",
      "source": [
        "from sklearn.svm import SVR"
      ],
      "metadata": {
        "id": "cdVljbkGEvBn"
      },
      "execution_count": 18,
      "outputs": []
    },
    {
      "cell_type": "code",
      "source": [
        "from homework_practice_08_rff import RFFPipeline, RandomFeatureCreator\n",
        "\n",
        "pipeline = RFFPipeline(n_features=1000, new_dim=50, use_PCA=False, classifier_class= SVR, feature_creator_class=RandomFeatureCreator)"
      ],
      "metadata": {
        "id": "nJ59bKhgE5Dw"
      },
      "execution_count": 19,
      "outputs": []
    },
    {
      "cell_type": "code",
      "source": [
        "start_time_train = time.time()\n",
        "pipeline.fit(X_train, y_train)\n",
        "train_time = time.time() - start_time_train\n",
        "y_pred = pipeline.predict(X_test)\n",
        "\n",
        "mse_rff = mean_squared_error(y_test, y_pred)\n",
        "\n",
        "print(f\"MSE for Random Fourier Features: {mse_rff:.4f}\")\n",
        "print(f\"Time for Random Fourier Features : {train_time:.6f}\")"
      ],
      "metadata": {
        "colab": {
          "base_uri": "https://localhost:8080/"
        },
        "id": "_WCOsO8cCl2l",
        "outputId": "08976ff7-f6b7-46a5-da26-e680733326ef"
      },
      "execution_count": 20,
      "outputs": [
        {
          "output_type": "stream",
          "name": "stdout",
          "text": [
            "MSE for Random Fourier Features: 0.0104\n",
            "Time for Random Fourier Features : 0.757751\n"
          ]
        }
      ]
    },
    {
      "cell_type": "markdown",
      "source": [
        "RFF показал меньшую ошибку, что подтверждает его способность приближать сложные зависимости. Однако KRR обучался быстрее, так как использует аналитическое решение, тогда как RFF требует генерации случайных признаков и обучения линейной модели.\n",
        "\n",
        "На небольших выборках KRR может быть более выгодным из-за скорости, но при увеличении объема данных вычислительная сложность KRR возрастает, и RFF становится предпочтительнее. В целом, RFF демонстрирует хорошее качество и является конкурентоспособной альтернативой ядровым методам в регрессии."
      ],
      "metadata": {
        "id": "G7ZBbmWP1vSg"
      }
    }
  ],
  "metadata": {
    "colab": {
      "provenance": []
    },
    "kernelspec": {
      "display_name": "Python 3 (ipykernel)",
      "language": "python",
      "name": "python3"
    },
    "language_info": {
      "codemirror_mode": {
        "name": "ipython",
        "version": 3
      },
      "file_extension": ".py",
      "mimetype": "text/x-python",
      "name": "python",
      "nbconvert_exporter": "python",
      "pygments_lexer": "ipython3",
      "version": "3.12.7"
    }
  },
  "nbformat": 4,
  "nbformat_minor": 0
}